{
 "cells": [
  {
   "cell_type": "code",
   "execution_count": 1,
   "metadata": {},
   "outputs": [
    {
     "name": "stderr",
     "output_type": "stream",
     "text": [
      "WARNING:2025-03-14 20:50:44,336:jax._src.xla_bridge:987: An NVIDIA GPU may be present on this machine, but a CUDA-enabled jaxlib is not installed. Falling back to cpu.\n"
     ]
    }
   ],
   "source": [
    "import jax.numpy as jnp\n",
    "from qurveros.spacecurve import SpaceCurve\n",
    "\n",
    "import qurveros.plot_configs\n",
    "from qurveros.settings import settings\n",
    "\n",
    "import matplotlib.pyplot as plt\n",
    "import matplotlib\n",
    "matplotlib.rcParams['figure.dpi'] = 150"
   ]
  },
  {
   "cell_type": "markdown",
   "metadata": {},
   "source": [
    "This example will introduce how to extract pulses using `qurveros`.\n",
    "In SCQC, the quantum evolution is associated with a space curve.\n",
    "Here, we will use a constant pulse to demonstrate the basic workflow."
   ]
  },
  {
   "cell_type": "markdown",
   "metadata": {},
   "source": [
    "A circle in the 2D plane retains a constant curvature throughout its traversal.\n",
    "We can define the function that returns the position vector of a circle using\n",
    "the trigonometric functions.\n",
    "\n",
    "Since the involved quantities must be differentiable, \n",
    "we use JAX's numpy API."
   ]
  },
  {
   "cell_type": "code",
   "execution_count": 2,
   "metadata": {},
   "outputs": [],
   "source": [
    "def circle(x, params):\n",
    "\n",
    "    return [jnp.cos(x), jnp.sin(x), 0]"
   ]
  },
  {
   "cell_type": "markdown",
   "metadata": {},
   "source": [
    "We create a SpaceCurve instance by supplying the function, \n",
    "the value of the order (which specifies if it's the curve or the tangent)\n",
    "and the endpoints of the interval. \n",
    "\n",
    "In this example, although no parameters are used to modify the argument of the \n",
    "trigonometric functions, the function signature must still be f(x, params)."
   ]
  },
  {
   "cell_type": "code",
   "execution_count": 3,
   "metadata": {},
   "outputs": [],
   "source": [
    "spacecurve = SpaceCurve(curve=circle,\n",
    "                        order=0,\n",
    "                        interval=[0, 2*jnp.pi])"
   ]
  },
  {
   "cell_type": "markdown",
   "metadata": {},
   "source": [
    "Aan instance of the SpaceCurve class contains all the necessary\n",
    "information for SCQC. The evaluation of the geometric quantities requires\n",
    "the user to invoke the related methods, for more flexible use of the framework.\n",
    "\n",
    "We can now evaluate all the required geometric properties associated with the\n",
    "curve using the .evaluate_frenet_dict() method.\n",
    "\n",
    "See the qurveros/settings.py file for the default settings that specify\n",
    "the number of samples in the curve parameter interval."
   ]
  },
  {
   "cell_type": "code",
   "execution_count": 4,
   "metadata": {},
   "outputs": [],
   "source": [
    "spacecurve.evaluate_frenet_dict()"
   ]
  },
  {
   "cell_type": "markdown",
   "metadata": {},
   "source": [
    "The frenet dictionary can be retrieved using the instance's getter.\n",
    "\n",
    "Treating the SpaceCurve instance as list, indexing it returns a reduced\n",
    "version of the frenet dictionary at the specified point."
   ]
  },
  {
   "cell_type": "code",
   "execution_count": 5,
   "metadata": {},
   "outputs": [
    {
     "data": {
      "text/plain": [
       "{'curve': Array([1., 0., 0.], dtype=float64),\n",
       " 'frame': Array([[ 0.,  1.,  0.],\n",
       "        [-1.,  0.,  0.],\n",
       "        [ 0., -0.,  1.]], dtype=float64),\n",
       " 'curvature': Array(1., dtype=float64),\n",
       " 'torsion': Array(0., dtype=float64),\n",
       " 'deriv_array': Array([[ 0.,  1.,  0.],\n",
       "        [-1.,  0.,  0.],\n",
       "        [ 0., -1.,  0.],\n",
       "        [ 1.,  0.,  0.],\n",
       "        [ 0.,  1.,  0.]], dtype=float64),\n",
       " 'length': np.float64(0.0)}"
      ]
     },
     "execution_count": 5,
     "metadata": {},
     "output_type": "execute_result"
    }
   ],
   "source": [
    "spacecurve[0]"
   ]
  },
  {
   "cell_type": "markdown",
   "metadata": {},
   "source": [
    "The robustness properties can be evaluated using the following method."
   ]
  },
  {
   "cell_type": "code",
   "execution_count": 6,
   "metadata": {},
   "outputs": [],
   "source": [
    "spacecurve.evaluate_robustness_properties()"
   ]
  },
  {
   "cell_type": "markdown",
   "metadata": {},
   "source": [
    "The RobustnessProperties is a special object that calculates the robustness\n",
    "properties of the curve and prints the associated coefficient that\n",
    "appears in average gate fidelity calculations."
   ]
  },
  {
   "cell_type": "code",
   "execution_count": 7,
   "metadata": {},
   "outputs": [
    {
     "name": "stdout",
     "output_type": "stream",
     "text": [
      "|       closed_test       : \t 1.5196e-33\n",
      "|     curve_area_test     : \t 2.5330e-02\n",
      "|    tantrix_area_test    : \t 3.9478e+01\n",
      "|           CFI           : \t 2.5330e-02\n"
     ]
    },
    {
     "data": {
      "text/plain": []
     },
     "execution_count": 7,
     "metadata": {},
     "output_type": "execute_result"
    }
   ],
   "source": [
    "spacecurve.get_robustness_properties()"
   ]
  },
  {
   "cell_type": "markdown",
   "metadata": {},
   "source": [
    "For a more comprehensive introduction to SCQC and the interpretation of the robustness properties, please refer to the papers in the README file and the `bessel_curve_robust_pulse` example."
   ]
  },
  {
   "cell_type": "markdown",
   "metadata": {},
   "source": [
    "As expected, the curve is closed since we created a circle with full period."
   ]
  },
  {
   "cell_type": "markdown",
   "metadata": {},
   "source": [
    "We can now plot the position vector and the tangent respectively, to confirm\n",
    "that we have designed a circle."
   ]
  },
  {
   "cell_type": "code",
   "execution_count": 8,
   "metadata": {},
   "outputs": [
    {
     "data": {
      "image/png": "[encoded data removed]",
      "text/plain": [
       "<Figure size 487.5x365.625 with 2 Axes>"
      ]
     },
     "metadata": {},
     "output_type": "display_data"
    }
   ],
   "source": [
    "spacecurve.plot_position()\n",
    "plt.gca().view_init(elev=90, roll=50)"
   ]
  },
  {
   "cell_type": "code",
   "execution_count": 9,
   "metadata": {},
   "outputs": [
    {
     "data": {
      "image/png": "[encoded data removed]",
      "text/plain": [
       "<Figure size 487.5x365.625 with 2 Axes>"
      ]
     },
     "metadata": {},
     "output_type": "display_data"
    }
   ],
   "source": [
    "spacecurve.plot_tantrix()\n",
    "plt.gca().view_init(elev=90, roll=50)"
   ]
  },
  {
   "cell_type": "markdown",
   "metadata": {},
   "source": [
    "Since time is the arclength parameterization of the curve, the hue indicates\n",
    "the direction of the traversal, for increasing length away from the starting\n",
    "point."
   ]
  },
  {
   "cell_type": "markdown",
   "metadata": {},
   "source": [
    "To extract the control fields, we evaluate the control dictionary depending\n",
    "on the control mode. In this example, we used resonant control.\n",
    "\n",
    "See controltools.py for the available modes."
   ]
  },
  {
   "cell_type": "code",
   "execution_count": 10,
   "metadata": {},
   "outputs": [],
   "source": [
    "spacecurve.evaluate_control_dict('XY')"
   ]
  },
  {
   "cell_type": "markdown",
   "metadata": {},
   "source": [
    "We can also plot the fields using the provided method."
   ]
  },
  {
   "cell_type": "code",
   "execution_count": 11,
   "metadata": {},
   "outputs": [
    {
     "data": {
      "image/png": "[encoded data removed]",
      "text/plain": [
       "<Figure size 487.5x365.625 with 1 Axes>"
      ]
     },
     "metadata": {},
     "output_type": "display_data"
    }
   ],
   "source": [
    "spacecurve.plot_fields('compact')"
   ]
  },
  {
   "cell_type": "markdown",
   "metadata": {},
   "source": [
    "In this plot, $T_g$ refers to the total gate time, which in SCQC, it coincides \n",
    "with the total length of the curve. This example is exactly solvable since\n",
    "we have a constant envelope. The total angle of rotation should be \n",
    "$\\Omega t = \\Omega T_g \\frac{t}{T_g}$ and at $t=T_g$, it should correspond to a \n",
    "cyclic evolution, as confirmed from the plot."
   ]
  },
  {
   "cell_type": "markdown",
   "metadata": {},
   "source": [
    "In this example, we discussed the basic workflow to describe the space curve\n",
    "and extract the control fields. See `bessel_curve_robust_pulse.ipynb` for a more\n",
    "practical example, which also introduces the subpackage `qubit_bench`."
   ]
  },
  {
   "cell_type": "code",
   "execution_count": 12,
   "metadata": {},
   "outputs": [
    {
     "name": "stdout",
     "output_type": "stream",
     "text": [
      "    CURVE_POINTS    : \t 4096\n",
      "     SIM_POINTS     : \t 4096\n",
      "   QUTIP_OPTIONS    : \t {'max_step': 0.0001220703125, 'atol': 1e-14, 'rtol': 1e-14}\n",
      "  NUM_REALIZATIONS  : \t 200\n",
      " FIR_TERMS_FRACTION : \t 0.9\n",
      "  DELTA_Z_INTERVAL  : \t (-3, 0)\n",
      "  EPSILON_INTERVAL  : \t (-4, -1)\n",
      "     MAX_POINTS     : \t 12\n",
      "  COUNTOUR_LEVELS   : \t (-9, -8, -7, -6, -5)\n",
      "     NUM_DERIVS     : \t 5\n",
      "  INFLECTION_NORM   : \t 0.001\n",
      "      FIX_NORM      : \t 0.01\n",
      "     NUM_SINGLS     : \t 5\n",
      "    ANGLE_K_MAX     : \t 3\n",
      "    FIELD_NAMES     : \t ['omega', 'phi', 'delta']\n",
      "     OPT_POINTS     : \t 4096\n",
      "    CURVE_COLORS    : \t ['#929A9C', '#E7ACAE', '#921417']\n",
      "    FIELD_COLORS    : \t ['#000000', '#305CDE', '#A67B5B']\n",
      "  COUNTOUR_COLORS   : \t ['#09B8B8', '#5B5585']\n",
      "\n"
     ]
    }
   ],
   "source": [
    "print(settings)"
   ]
  }
 ],
 "metadata": {
  "kernelspec": {
   "display_name": ".venv",
   "language": "python",
   "name": "python3"
  },
  "language_info": {
   "codemirror_mode": {
    "name": "ipython",
    "version": 3
   },
   "file_extension": ".py",
   "mimetype": "text/x-python",
   "name": "python",
   "nbconvert_exporter": "python",
   "pygments_lexer": "ipython3",
   "version": "3.12.3"
  },
  "orig_nbformat": 4
 },
 "nbformat": 4,
 "nbformat_minor": 2
}
